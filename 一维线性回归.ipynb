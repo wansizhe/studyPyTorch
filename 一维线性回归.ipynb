{
 "cells": [
  {
   "cell_type": "code",
   "execution_count": 2,
   "metadata": {},
   "outputs": [],
   "source": [
    "import numpy as np\n",
    "import torch\n",
    "from torch.autograd import Variable\n",
    "from torch import nn\n",
    "import matplotlib.pyplot as plt"
   ]
  },
  {
   "cell_type": "code",
   "execution_count": 4,
   "metadata": {},
   "outputs": [
    {
     "data": {
      "image/png": "[encoded data removed]",
      "text/plain": [
       "<Figure size 432x288 with 1 Axes>"
      ]
     },
     "metadata": {
      "needs_background": "light"
     },
     "output_type": "display_data"
    }
   ],
   "source": [
    "x_train = np.array([[3.3], [4.4], [5.5], [6.71], [6.93], \n",
    "                    [4.168], [9.779], [6.182], [7.59], [2.167], \n",
    "                    [7.042], [10.791],[5.313], [7.997], [3.1]], dtype=np.float32)\n",
    "y_train = np.array([[1.7], [2.76], [2.09], [3.19], [1.649], \n",
    "                    [1.573], [3.366], [2.596], [2.53], [1.221], \n",
    "                    [2.827], [3.465],[1.65], [2.904], [1.3]], dtype=np.float32)\n",
    "plt.scatter(x_train, y_train)\n",
    "plt.show()"
   ]
  },
  {
   "cell_type": "code",
   "execution_count": 5,
   "metadata": {},
   "outputs": [
    {
     "name": "stdout",
     "output_type": "stream",
     "text": [
      "tensor([[ 3.3000],\n",
      "        [ 4.4000],\n",
      "        [ 5.5000],\n",
      "        [ 6.7100],\n",
      "        [ 6.9300],\n",
      "        [ 4.1680],\n",
      "        [ 9.7790],\n",
      "        [ 6.1820],\n",
      "        [ 7.5900],\n",
      "        [ 2.1670],\n",
      "        [ 7.0420],\n",
      "        [10.7910],\n",
      "        [ 5.3130],\n",
      "        [ 7.9970],\n",
      "        [ 3.1000]])\n",
      "tensor([[1.7000],\n",
      "        [2.7600],\n",
      "        [2.0900],\n",
      "        [3.1900],\n",
      "        [1.6490],\n",
      "        [1.5730],\n",
      "        [3.3660],\n",
      "        [2.5960],\n",
      "        [2.5300],\n",
      "        [1.2210],\n",
      "        [2.8270],\n",
      "        [3.4650],\n",
      "        [1.6500],\n",
      "        [2.9040],\n",
      "        [1.3000]])\n"
     ]
    }
   ],
   "source": [
    "x_train_tensor = torch.from_numpy(x_train)\n",
    "y_train_tensor = torch.from_numpy(y_train)\n",
    "print(x_train_tensor)\n",
    "print(y_train_tensor)"
   ]
  },
  {
   "cell_type": "code",
   "execution_count": 12,
   "metadata": {},
   "outputs": [],
   "source": [
    "class LinearRegression(nn.Module):\n",
    "    def __init__(self):\n",
    "        super(LinearRegression, self).__init__()\n",
    "        self.linear = nn.Linear(1, 1)\n",
    "        \n",
    "    def forward(self, x):\n",
    "        out = self.linear(x)\n",
    "        return out"
   ]
  },
  {
   "cell_type": "code",
   "execution_count": 13,
   "metadata": {},
   "outputs": [],
   "source": [
    "model = LinearRegression()\n",
    "criterion = nn.MSELoss()\n",
    "optimizer = torch.optim.SGD(model.parameters(), lr=1e-3)"
   ]
  },
  {
   "cell_type": "code",
   "execution_count": 14,
   "metadata": {},
   "outputs": [
    {
     "name": "stdout",
     "output_type": "stream",
     "text": [
      "Epoch[20/1000], loss: 0.516542\n",
      "Epoch[40/1000], loss: 0.331452\n",
      "Epoch[60/1000], loss: 0.324953\n",
      "Epoch[80/1000], loss: 0.323280\n",
      "Epoch[100/1000], loss: 0.321752\n",
      "Epoch[120/1000], loss: 0.320244\n",
      "Epoch[140/1000], loss: 0.318751\n",
      "Epoch[160/1000], loss: 0.317273\n",
      "Epoch[180/1000], loss: 0.315810\n",
      "Epoch[200/1000], loss: 0.314362\n",
      "Epoch[220/1000], loss: 0.312929\n",
      "Epoch[240/1000], loss: 0.311511\n",
      "Epoch[260/1000], loss: 0.310107\n",
      "Epoch[280/1000], loss: 0.308718\n",
      "Epoch[300/1000], loss: 0.307343\n",
      "Epoch[320/1000], loss: 0.305981\n",
      "Epoch[340/1000], loss: 0.304634\n",
      "Epoch[360/1000], loss: 0.303301\n",
      "Epoch[380/1000], loss: 0.301981\n",
      "Epoch[400/1000], loss: 0.300674\n",
      "Epoch[420/1000], loss: 0.299381\n",
      "Epoch[440/1000], loss: 0.298101\n",
      "Epoch[460/1000], loss: 0.296835\n",
      "Epoch[480/1000], loss: 0.295581\n",
      "Epoch[500/1000], loss: 0.294340\n",
      "Epoch[520/1000], loss: 0.293112\n",
      "Epoch[540/1000], loss: 0.291896\n",
      "Epoch[560/1000], loss: 0.290693\n",
      "Epoch[580/1000], loss: 0.289502\n",
      "Epoch[600/1000], loss: 0.288323\n",
      "Epoch[620/1000], loss: 0.287156\n",
      "Epoch[640/1000], loss: 0.286001\n",
      "Epoch[660/1000], loss: 0.284858\n",
      "Epoch[680/1000], loss: 0.283727\n",
      "Epoch[700/1000], loss: 0.282607\n",
      "Epoch[720/1000], loss: 0.281498\n",
      "Epoch[740/1000], loss: 0.280401\n",
      "Epoch[760/1000], loss: 0.279316\n",
      "Epoch[780/1000], loss: 0.278241\n",
      "Epoch[800/1000], loss: 0.277177\n",
      "Epoch[820/1000], loss: 0.276124\n",
      "Epoch[840/1000], loss: 0.275082\n",
      "Epoch[860/1000], loss: 0.274051\n",
      "Epoch[880/1000], loss: 0.273030\n",
      "Epoch[900/1000], loss: 0.272019\n",
      "Epoch[920/1000], loss: 0.271019\n",
      "Epoch[940/1000], loss: 0.270029\n",
      "Epoch[960/1000], loss: 0.269049\n",
      "Epoch[980/1000], loss: 0.268080\n",
      "Epoch[1000/1000], loss: 0.267120\n"
     ]
    },
    {
     "name": "stderr",
     "output_type": "stream",
     "text": [
      "/Users/wansizhe/anaconda3/lib/python3.6/site-packages/ipykernel_launcher.py:14: UserWarning: invalid index of a 0-dim tensor. This will be an error in PyTorch 0.5. Use tensor.item() to convert a 0-dim tensor to a Python number\n",
      "  \n"
     ]
    }
   ],
   "source": [
    "num_epochs = 1000\n",
    "for epoch in range(num_epochs):\n",
    "    inputs = Variable(x_train_tensor)\n",
    "    target = Variable(y_train_tensor)\n",
    "    # forward\n",
    "    out = model(inputs)\n",
    "    loss = criterion(out, target)\n",
    "    # backward\n",
    "    optimizer.zero_grad()\n",
    "    loss.backward()\n",
    "    optimizer.step()\n",
    "    # show\n",
    "    if (epoch+1) % 20 == 0:\n",
    "        print('Epoch[{}/{}], loss: {:.6f}'.format(epoch+1, num_epochs, loss.data[0]))"
   ]
  },
  {
   "cell_type": "code",
   "execution_count": 15,
   "metadata": {},
   "outputs": [
    {
     "data": {
      "image/png": "[encoded data removed]",
      "text/plain": [
       "<Figure size 432x288 with 1 Axes>"
      ]
     },
     "metadata": {
      "needs_background": "light"
     },
     "output_type": "display_data"
    }
   ],
   "source": [
    "model.eval()\n",
    "predict = model(Variable(x_train_tensor))\n",
    "predict = predict.data.numpy()\n",
    "plt.plot(x_train, y_train, 'ro', label='Original data')\n",
    "plt.plot(x_train, predict, label='Fitting line')\n",
    "plt.show()"
   ]
  },
  {
   "cell_type": "code",
   "execution_count": null,
   "metadata": {},
   "outputs": [],
   "source": []
  }
 ],
 "metadata": {
  "kernelspec": {
   "display_name": "Python 3",
   "language": "python",
   "name": "python3"
  },
  "language_info": {
   "codemirror_mode": {
    "name": "ipython",
    "version": 3
   },
   "file_extension": ".py",
   "mimetype": "text/x-python",
   "name": "python",
   "nbconvert_exporter": "python",
   "pygments_lexer": "ipython3",
   "version": "3.6.6"
  }
 },
 "nbformat": 4,
 "nbformat_minor": 2
}
