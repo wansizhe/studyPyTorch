{
 "cells": [
  {
   "cell_type": "code",
   "execution_count": 1,
   "metadata": {},
   "outputs": [],
   "source": [
    "import torch\n",
    "import numpy as np\n",
    "from torch.autograd import Variable\n",
    "import matplotlib.pyplot as plt"
   ]
  },
  {
   "cell_type": "code",
   "execution_count": 3,
   "metadata": {},
   "outputs": [
    {
     "name": "stdout",
     "output_type": "stream",
     "text": [
      "y = 0.90 + 0.50 * x + 3.00 * x^2 + 2.40 * x^3\n"
     ]
    }
   ],
   "source": [
    "w_target = np.array([0.5, 3, 2.4])\n",
    "b_target = np.array([0.9])\n",
    "f_des = 'y = {:.2f} + {:.2f} * x + {:.2f} * x^2 + {:.2f} * x^3'.format(\n",
    "        b_target[0], w_target[0], w_target[1], w_target[2])\n",
    "print(f_des)"
   ]
  },
  {
   "cell_type": "code",
   "execution_count": 5,
   "metadata": {},
   "outputs": [
    {
     "data": {
      "text/plain": [
       "<matplotlib.legend.Legend at 0x11585c5f8>"
      ]
     },
     "execution_count": 5,
     "metadata": {},
     "output_type": "execute_result"
    },
    {
     "data": {
      "image/png": "[encoded data removed]",
      "text/plain": [
       "<Figure size 432x288 with 1 Axes>"
      ]
     },
     "metadata": {
      "needs_background": "light"
     },
     "output_type": "display_data"
    }
   ],
   "source": [
    "x_sample = np.arange(-3, 3.1, 0.1)\n",
    "y_sample = b_target[0] + w_target[0] * x_sample + w_target[1] * x_sample ** 2 + w_target[2] * x_sample ** 3\n",
    "plt.plot(x_sample, y_sample, label='real curve')\n",
    "plt.legend()"
   ]
  },
  {
   "cell_type": "code",
   "execution_count": 6,
   "metadata": {},
   "outputs": [
    {
     "name": "stdout",
     "output_type": "stream",
     "text": [
      "tensor([[-3.0000e+00,  9.0000e+00, -2.7000e+01],\n",
      "        [-2.9000e+00,  8.4100e+00, -2.4389e+01],\n",
      "        [-2.8000e+00,  7.8400e+00, -2.1952e+01],\n",
      "        [-2.7000e+00,  7.2900e+00, -1.9683e+01],\n",
      "        [-2.6000e+00,  6.7600e+00, -1.7576e+01],\n",
      "        [-2.5000e+00,  6.2500e+00, -1.5625e+01],\n",
      "        [-2.4000e+00,  5.7600e+00, -1.3824e+01],\n",
      "        [-2.3000e+00,  5.2900e+00, -1.2167e+01],\n",
      "        [-2.2000e+00,  4.8400e+00, -1.0648e+01],\n",
      "        [-2.1000e+00,  4.4100e+00, -9.2610e+00],\n",
      "        [-2.0000e+00,  4.0000e+00, -8.0000e+00],\n",
      "        [-1.9000e+00,  3.6100e+00, -6.8590e+00],\n",
      "        [-1.8000e+00,  3.2400e+00, -5.8320e+00],\n",
      "        [-1.7000e+00,  2.8900e+00, -4.9130e+00],\n",
      "        [-1.6000e+00,  2.5600e+00, -4.0960e+00],\n",
      "        [-1.5000e+00,  2.2500e+00, -3.3750e+00],\n",
      "        [-1.4000e+00,  1.9600e+00, -2.7440e+00],\n",
      "        [-1.3000e+00,  1.6900e+00, -2.1970e+00],\n",
      "        [-1.2000e+00,  1.4400e+00, -1.7280e+00],\n",
      "        [-1.1000e+00,  1.2100e+00, -1.3310e+00],\n",
      "        [-1.0000e+00,  1.0000e+00, -1.0000e+00],\n",
      "        [-9.0000e-01,  8.1000e-01, -7.2900e-01],\n",
      "        [-8.0000e-01,  6.4000e-01, -5.1200e-01],\n",
      "        [-7.0000e-01,  4.9000e-01, -3.4300e-01],\n",
      "        [-6.0000e-01,  3.6000e-01, -2.1600e-01],\n",
      "        [-5.0000e-01,  2.5000e-01, -1.2500e-01],\n",
      "        [-4.0000e-01,  1.6000e-01, -6.4000e-02],\n",
      "        [-3.0000e-01,  9.0000e-02, -2.7000e-02],\n",
      "        [-2.0000e-01,  4.0000e-02, -8.0000e-03],\n",
      "        [-1.0000e-01,  1.0000e-02, -1.0000e-03],\n",
      "        [ 2.6645e-15,  7.0997e-30,  1.9618e-44],\n",
      "        [ 1.0000e-01,  1.0000e-02,  1.0000e-03],\n",
      "        [ 2.0000e-01,  4.0000e-02,  8.0000e-03],\n",
      "        [ 3.0000e-01,  9.0000e-02,  2.7000e-02],\n",
      "        [ 4.0000e-01,  1.6000e-01,  6.4000e-02],\n",
      "        [ 5.0000e-01,  2.5000e-01,  1.2500e-01],\n",
      "        [ 6.0000e-01,  3.6000e-01,  2.1600e-01],\n",
      "        [ 7.0000e-01,  4.9000e-01,  3.4300e-01],\n",
      "        [ 8.0000e-01,  6.4000e-01,  5.1200e-01],\n",
      "        [ 9.0000e-01,  8.1000e-01,  7.2900e-01],\n",
      "        [ 1.0000e+00,  1.0000e+00,  1.0000e+00],\n",
      "        [ 1.1000e+00,  1.2100e+00,  1.3310e+00],\n",
      "        [ 1.2000e+00,  1.4400e+00,  1.7280e+00],\n",
      "        [ 1.3000e+00,  1.6900e+00,  2.1970e+00],\n",
      "        [ 1.4000e+00,  1.9600e+00,  2.7440e+00],\n",
      "        [ 1.5000e+00,  2.2500e+00,  3.3750e+00],\n",
      "        [ 1.6000e+00,  2.5600e+00,  4.0960e+00],\n",
      "        [ 1.7000e+00,  2.8900e+00,  4.9130e+00],\n",
      "        [ 1.8000e+00,  3.2400e+00,  5.8320e+00],\n",
      "        [ 1.9000e+00,  3.6100e+00,  6.8590e+00],\n",
      "        [ 2.0000e+00,  4.0000e+00,  8.0000e+00],\n",
      "        [ 2.1000e+00,  4.4100e+00,  9.2610e+00],\n",
      "        [ 2.2000e+00,  4.8400e+00,  1.0648e+01],\n",
      "        [ 2.3000e+00,  5.2900e+00,  1.2167e+01],\n",
      "        [ 2.4000e+00,  5.7600e+00,  1.3824e+01],\n",
      "        [ 2.5000e+00,  6.2500e+00,  1.5625e+01],\n",
      "        [ 2.6000e+00,  6.7600e+00,  1.7576e+01],\n",
      "        [ 2.7000e+00,  7.2900e+00,  1.9683e+01],\n",
      "        [ 2.8000e+00,  7.8400e+00,  2.1952e+01],\n",
      "        [ 2.9000e+00,  8.4100e+00,  2.4389e+01],\n",
      "        [ 3.0000e+00,  9.0000e+00,  2.7000e+01]])\n",
      "tensor([[-38.4000],\n",
      "        [-33.8536],\n",
      "        [-29.6648],\n",
      "        [-25.8192],\n",
      "        [-22.3024],\n",
      "        [-19.1000],\n",
      "        [-16.1976],\n",
      "        [-13.5808],\n",
      "        [-11.2352],\n",
      "        [ -9.1464],\n",
      "        [ -7.3000],\n",
      "        [ -5.6816],\n",
      "        [ -4.2768],\n",
      "        [ -3.0712],\n",
      "        [ -2.0504],\n",
      "        [ -1.2000],\n",
      "        [ -0.5056],\n",
      "        [  0.0472],\n",
      "        [  0.4728],\n",
      "        [  0.7856],\n",
      "        [  1.0000],\n",
      "        [  1.1304],\n",
      "        [  1.1912],\n",
      "        [  1.1968],\n",
      "        [  1.1616],\n",
      "        [  1.1000],\n",
      "        [  1.0264],\n",
      "        [  0.9552],\n",
      "        [  0.9008],\n",
      "        [  0.8776],\n",
      "        [  0.9000],\n",
      "        [  0.9824],\n",
      "        [  1.1392],\n",
      "        [  1.3848],\n",
      "        [  1.7336],\n",
      "        [  2.2000],\n",
      "        [  2.7984],\n",
      "        [  3.5432],\n",
      "        [  4.4488],\n",
      "        [  5.5296],\n",
      "        [  6.8000],\n",
      "        [  8.2744],\n",
      "        [  9.9672],\n",
      "        [ 11.8928],\n",
      "        [ 14.0656],\n",
      "        [ 16.5000],\n",
      "        [ 19.2104],\n",
      "        [ 22.2112],\n",
      "        [ 25.5168],\n",
      "        [ 29.1416],\n",
      "        [ 33.1000],\n",
      "        [ 37.4064],\n",
      "        [ 42.0752],\n",
      "        [ 47.1208],\n",
      "        [ 52.5576],\n",
      "        [ 58.4000],\n",
      "        [ 64.6624],\n",
      "        [ 71.3592],\n",
      "        [ 78.5048],\n",
      "        [ 86.1136],\n",
      "        [ 94.2000]], dtype=torch.float64)\n"
     ]
    }
   ],
   "source": [
    "x_train = np.stack([x_sample ** i for i in range(1, 4)], axis=1)\n",
    "x_train_tensor = torch.from_numpy(x_train).float()\n",
    "y_train_tensor = torch.from_numpy(y_sample).unsqueeze(1)\n",
    "print(x_train_tensor)\n",
    "print(y_train_tensor)"
   ]
  },
  {
   "cell_type": "code",
   "execution_count": 7,
   "metadata": {},
   "outputs": [],
   "source": [
    "w = Variable(torch.randn(3, 1), requires_grad=True)\n",
    "b = Variable(torch.zeros(1), requires_grad=True)\n",
    "inputs = Variable(x_train_tensor)\n",
    "target = Variable(y_train_tensor)"
   ]
  },
  {
   "cell_type": "code",
   "execution_count": 8,
   "metadata": {},
   "outputs": [
    {
     "data": {
      "text/plain": [
       "<matplotlib.legend.Legend at 0x11c769f98>"
      ]
     },
     "execution_count": 8,
     "metadata": {},
     "output_type": "execute_result"
    },
    {
     "data": {
      "image/png": "[encoded data removed]",
      "text/plain": [
       "<Figure size 432x288 with 1 Axes>"
      ]
     },
     "metadata": {
      "needs_background": "light"
     },
     "output_type": "display_data"
    }
   ],
   "source": [
    "def MultiLinear(x):\n",
    "    return torch.mm(x, w) + b\n",
    "prediction = MultiLinear(inputs)\n",
    "plt.plot(x_train[:, 0], prediction.data.numpy(), label='fitting curve', color='r')\n",
    "plt.plot(x_train[:, 0], y_sample, label='real curve', color='b')\n",
    "plt.legend()"
   ]
  },
  {
   "cell_type": "code",
   "execution_count": 13,
   "metadata": {},
   "outputs": [
    {
     "name": "stdout",
     "output_type": "stream",
     "text": [
      "tensor(1144.9318, grad_fn=<MeanBackward1>)\n"
     ]
    }
   ],
   "source": [
    "def GetLoss(y_, y):\n",
    "    return torch.mean((y_ - y) ** 2)\n",
    "loss = GetLoss(prediction.float(), target.float())\n",
    "print(loss)"
   ]
  },
  {
   "cell_type": "code",
   "execution_count": 14,
   "metadata": {},
   "outputs": [
    {
     "name": "stdout",
     "output_type": "stream",
     "text": [
      "tensor([[-101.8620],\n",
      "        [-113.8921],\n",
      "        [-662.0945]])\n",
      "tensor([-21.2177])\n"
     ]
    }
   ],
   "source": [
    "loss.backward()\n",
    "print(w.grad)\n",
    "print(b.grad)"
   ]
  },
  {
   "cell_type": "code",
   "execution_count": 16,
   "metadata": {},
   "outputs": [
    {
     "data": {
      "text/plain": [
       "<matplotlib.legend.Legend at 0x11c881160>"
      ]
     },
     "execution_count": 16,
     "metadata": {},
     "output_type": "execute_result"
    },
    {
     "data": {
      "image/png": "[encoded data removed]",
      "text/plain": [
       "<Figure size 432x288 with 1 Axes>"
      ]
     },
     "metadata": {
      "needs_background": "light"
     },
     "output_type": "display_data"
    }
   ],
   "source": [
    "w.data = w.data - 0.001 * w.grad.data\n",
    "b.data = b.data - 0.001 * b.grad.data\n",
    "prediction = MultiLinear(inputs)\n",
    "plt.plot(x_train[:, 0], prediction.data.numpy(), label='fitting curve', color='r')\n",
    "plt.plot(x_train[:, 0], y_sample, label='real curve', color='b')\n",
    "plt.legend()"
   ]
  },
  {
   "cell_type": "code",
   "execution_count": 17,
   "metadata": {},
   "outputs": [
    {
     "name": "stdout",
     "output_type": "stream",
     "text": [
      "epoch 20, Loss: 24.91773\n",
      "epoch 40, Loss: 27.93019\n",
      "epoch 60, Loss: 49.72620\n",
      "epoch 80, Loss: 32.96894\n",
      "epoch 100, Loss: 15.15148\n"
     ]
    },
    {
     "name": "stderr",
     "output_type": "stream",
     "text": [
      "/Users/wansizhe/anaconda3/lib/python3.6/site-packages/ipykernel_launcher.py:10: UserWarning: invalid index of a 0-dim tensor. This will be an error in PyTorch 0.5. Use tensor.item() to convert a 0-dim tensor to a Python number\n",
      "  # Remove the CWD from sys.path while we load stuff.\n"
     ]
    }
   ],
   "source": [
    "for e in range(100):\n",
    "    prediction = MultiLinear(inputs)\n",
    "    loss = GetLoss(prediction.float(), target.float())\n",
    "    w.grad.data.zero_()\n",
    "    w.grad.data.zero_()\n",
    "    loss.backward()\n",
    "    w.data = w.data - 0.001 * w.grad.data\n",
    "    b.data = b.data - 0.001 * b.grad.data\n",
    "    if(e + 1) % 20 == 0:\n",
    "        print('epoch {}, Loss: {:.5f}'.format(e+1, loss.data[0]))"
   ]
  },
  {
   "cell_type": "code",
   "execution_count": 18,
   "metadata": {},
   "outputs": [
    {
     "data": {
      "text/plain": [
       "<matplotlib.legend.Legend at 0x11c8ed6a0>"
      ]
     },
     "execution_count": 18,
     "metadata": {},
     "output_type": "execute_result"
    },
    {
     "data": {
      "image/png": "[encoded data removed]",
      "text/plain": [
       "<Figure size 432x288 with 1 Axes>"
      ]
     },
     "metadata": {
      "needs_background": "light"
     },
     "output_type": "display_data"
    }
   ],
   "source": [
    "prediction = MultiLinear(inputs)\n",
    "plt.plot(x_train[:, 0], prediction.data.numpy(), label='fitting curve', color='r')\n",
    "plt.plot(x_train[:, 0], y_sample, label='real curve', color='b')\n",
    "plt.legend()"
   ]
  },
  {
   "cell_type": "code",
   "execution_count": null,
   "metadata": {},
   "outputs": [],
   "source": []
  }
 ],
 "metadata": {
  "kernelspec": {
   "display_name": "Python 3",
   "language": "python",
   "name": "python3"
  },
  "language_info": {
   "codemirror_mode": {
    "name": "ipython",
    "version": 3
   },
   "file_extension": ".py",
   "mimetype": "text/x-python",
   "name": "python",
   "nbconvert_exporter": "python",
   "pygments_lexer": "ipython3",
   "version": "3.6.6"
  }
 },
 "nbformat": 4,
 "nbformat_minor": 2
}
